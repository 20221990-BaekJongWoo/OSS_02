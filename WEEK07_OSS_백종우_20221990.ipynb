{
  "nbformat": 4,
  "nbformat_minor": 0,
  "metadata": {
    "colab": {
      "provenance": []
    },
    "kernelspec": {
      "name": "python3",
      "display_name": "Python 3"
    },
    "language_info": {
      "name": "python"
    }
  },
  "cells": [
    {
      "cell_type": "code",
      "execution_count": 1,
      "metadata": {
        "id": "nv0f5crBLI9t"
      },
      "outputs": [],
      "source": [
        "#1\n",
        "from abc import ABC, abstractmethod\n",
        "from collections import namedtuple\n",
        "\n",
        "Customer = namedtuple('Customer', 'name fidelity')"
      ]
    },
    {
      "cell_type": "code",
      "source": [
        "park = Customer('Park', 100)\n",
        "park\n"
      ],
      "metadata": {
        "colab": {
          "base_uri": "https://localhost:8080/"
        },
        "id": "N3wtpvHDMDQs",
        "outputId": "6357c95d-8119-4571-c4a0-ba15232e89e3"
      },
      "execution_count": 2,
      "outputs": [
        {
          "output_type": "execute_result",
          "data": {
            "text/plain": [
              "Customer(name='Park', fidelity=100)"
            ]
          },
          "metadata": {},
          "execution_count": 2
        }
      ]
    },
    {
      "cell_type": "code",
      "source": [
        "class LineItem:\n",
        "    \"\"\"구매할 물품/갯수 생성해서 총 가격을 반환\"\"\"\n",
        "    def __init__(self, product, quantity, price):\n",
        "        self.product = product\n",
        "        self.quantity = quantity\n",
        "        self.price = price\n",
        "\n",
        "    def total(self):\n",
        "        return self.price * self.quantity"
      ],
      "metadata": {
        "id": "swAOyTV-MDdq"
      },
      "execution_count": 3,
      "outputs": []
    },
    {
      "cell_type": "code",
      "source": [
        "class Order:  # Context\n",
        "    \"\"\"고객(nametuple) 및 LineItem 클래스의 인스턴스들을 cart로 받아서 총 계산할 가격을 산출\"\"\"\n",
        "    def __init__(self, customer, cart, promotion=None):\n",
        "        self.customer = customer\n",
        "        self.cart = list(cart)\n",
        "        self.promotion = promotion  # 할인 객체\n",
        "\n",
        "    def total(self):\n",
        "        \"\"\"__total 속성이 없으면 전체 계산할 값을 계산\"\"\"\n",
        "        if not hasattr(self, '_total'):\n",
        "            self._total = sum(item.total() for item in self.cart)\n",
        "        return self._total\n",
        "\n",
        "    def due(self):\n",
        "        \"\"\"할인금액의 차감\"\"\"\n",
        "        if self.promotion is None:\n",
        "            discount = 0\n",
        "        else:\n",
        "            discount = self.promotion.discount(self)  # self = Order 객체\n",
        "        return self.total() - discount\n",
        "\n",
        "    def __repr__(self):\n",
        "        fmt = '<Order total: {:.2f} due: {:.2f}>'\n",
        "        return fmt.format(self.total(), self.due())\n"
      ],
      "metadata": {
        "id": "eVrl_ZY7MNbS"
      },
      "execution_count": 4,
      "outputs": []
    },
    {
      "cell_type": "code",
      "source": [
        "class Promotion(ABC):  # strategy : abstract base class\n",
        "    \"\"\"할인 혜택 클래스들의 형태를 선언\"\"\"\n",
        "\n",
        "    @abstractmethod  # 이 클래스를 상속하는 클래스는 반드시 이 메서드를 선언해야함\n",
        "    def discount(self, order):\n",
        "        \"\"\"할인액을 구체적인 숫자로 반환\"\"\"\n",
        "        pass\n"
      ],
      "metadata": {
        "id": "eoOnI5MWMNfh"
      },
      "execution_count": 5,
      "outputs": []
    },
    {
      "cell_type": "code",
      "source": [
        "class FidelityPromo(Promotion):\n",
        "    \"\"\"충성도 점수가 1000점 이상인 고객에게 전체 5% 할인 적용\"\"\"\n",
        "    def discount(self, order):\n",
        "        return order.total() * 0.05 if order.customer.fidelity >= 1000 else 0\n",
        "\n",
        "\n",
        "class BulkItemPromo(Promotion):\n",
        "    \"\"\"20개 이상의 동일 상품을 구입하면 10% 할인\"\"\"\n",
        "\n",
        "    def discount(self, order):\n",
        "        discount = 0\n",
        "        for item in order.cart:\n",
        "            if item.quantity >= 20:\n",
        "                discount += item.total() * 0.1\n",
        "        return discount\n",
        "\n",
        "\n",
        "class LargeOrderPromo(Promotion):\n",
        "    \"\"\"10종류 이상의 상품을 구입하면 전체 7% 할인 적용\"\"\"\n",
        "\n",
        "    def discount(self, order):\n",
        "        distinct_items = {item.product for item in order.cart}\n",
        "        if len(distinct_items) >= 10:\n",
        "            return order.total() * 0.07\n",
        "        return 0\n"
      ],
      "metadata": {
        "id": "r9wsfc-BMNjb"
      },
      "execution_count": 6,
      "outputs": []
    },
    {
      "cell_type": "code",
      "source": [
        "#2\n",
        "joe = Customer('John Doe', 0)\n",
        "ann = Customer('Ann Smith', 1100)\n",
        "cart = [LineItem('banana', 4, .5),\n",
        "        LineItem('apple', 10, 1.5),\n",
        "        LineItem('watermellon', 5, 5.0)]\n"
      ],
      "metadata": {
        "id": "O4SeGAynMNnM"
      },
      "execution_count": 7,
      "outputs": []
    },
    {
      "cell_type": "code",
      "source": [
        "Order(joe, cart, FidelityPromo())\n",
        "\n"
      ],
      "metadata": {
        "colab": {
          "base_uri": "https://localhost:8080/"
        },
        "id": "jk6C4qYgMNqg",
        "outputId": "b54e2ad3-27ef-45ba-aead-b4ec521d0376"
      },
      "execution_count": 8,
      "outputs": [
        {
          "output_type": "execute_result",
          "data": {
            "text/plain": [
              "<Order total: 42.00 due: 42.00>"
            ]
          },
          "metadata": {},
          "execution_count": 8
        }
      ]
    },
    {
      "cell_type": "code",
      "source": [
        "Order(ann, cart, FidelityPromo())\n",
        "\n"
      ],
      "metadata": {
        "colab": {
          "base_uri": "https://localhost:8080/"
        },
        "id": "sHT6pNqLMNtc",
        "outputId": "3e51f825-2888-4e31-f510-16960f8b876f"
      },
      "execution_count": 9,
      "outputs": [
        {
          "output_type": "execute_result",
          "data": {
            "text/plain": [
              "<Order total: 42.00 due: 39.90>"
            ]
          },
          "metadata": {},
          "execution_count": 9
        }
      ]
    },
    {
      "cell_type": "code",
      "source": [
        "banana_cart = [LineItem('banana', 30, .5),\n",
        "               LineItem('apple', 10, 1.5)]\n"
      ],
      "metadata": {
        "id": "i4RYyZXBMNwO"
      },
      "execution_count": 10,
      "outputs": []
    },
    {
      "cell_type": "code",
      "source": [
        "Order(joe, banana_cart, BulkItemPromo())\n",
        "\n"
      ],
      "metadata": {
        "colab": {
          "base_uri": "https://localhost:8080/"
        },
        "id": "Sq6ZdktbMNzD",
        "outputId": "35a78870-0782-485e-e4eb-22f35f95bba9"
      },
      "execution_count": 11,
      "outputs": [
        {
          "output_type": "execute_result",
          "data": {
            "text/plain": [
              "<Order total: 30.00 due: 28.50>"
            ]
          },
          "metadata": {},
          "execution_count": 11
        }
      ]
    },
    {
      "cell_type": "code",
      "source": [
        "long_order = [LineItem(str(item_code), 1, 1.0)\n",
        "              for item_code in range(10)]\n"
      ],
      "metadata": {
        "id": "ywpTxCciMN1t"
      },
      "execution_count": 12,
      "outputs": []
    },
    {
      "cell_type": "code",
      "source": [
        "Order(joe, long_order, LargeOrderPromo())\n",
        "\n"
      ],
      "metadata": {
        "colab": {
          "base_uri": "https://localhost:8080/"
        },
        "id": "CoJIYTrdMN4T",
        "outputId": "171b85be-973c-4b12-b5d6-dedfbd30d0d8"
      },
      "execution_count": 13,
      "outputs": [
        {
          "output_type": "execute_result",
          "data": {
            "text/plain": [
              "<Order total: 10.00 due: 9.30>"
            ]
          },
          "metadata": {},
          "execution_count": 13
        }
      ]
    },
    {
      "cell_type": "code",
      "source": [
        "Order(joe, cart, LargeOrderPromo())"
      ],
      "metadata": {
        "id": "GI0FPGepJ3Qu",
        "outputId": "043f4673-033f-4f95-c98d-882fbb4c3f25",
        "colab": {
          "base_uri": "https://localhost:8080/"
        }
      },
      "execution_count": 14,
      "outputs": [
        {
          "output_type": "execute_result",
          "data": {
            "text/plain": [
              "<Order total: 42.00 due: 42.00>"
            ]
          },
          "metadata": {},
          "execution_count": 14
        }
      ]
    },
    {
      "cell_type": "code",
      "source": [
        "#3\n",
        "class Order:\n",
        "    \"\"\"고객(namedtuple) 및 LIneItem 클래스의 인스턴스들을 cart로 받아서 총 계산할 가격으ㅡㄹ 산출 \"\"\"\n",
        "    def __init__(self, customer, cart, promotion=None):\n",
        "        self.customer = customer\n",
        "        self.cart = list(cart)\n",
        "        self.promotion = promotion\n",
        "\n",
        "    def total(self):\n",
        "        if not hasattr(self, '__total'):\n",
        "            self.__total = sum(item.total() for item in self.cart)\n",
        "        return self.__total\n",
        "\n",
        "    def due(self):\n",
        "        if self.promotion is None:\n",
        "            discount = 0\n",
        "        else:\n",
        "            discount = self.promotion(self)\n",
        "        return self.total() - discount\n",
        "\n",
        "    def __repr__(self):\n",
        "        fmt = '<Order total: {:.2f} due: {:.2f}>'\n",
        "        return fmt.format(self.total(), self.due())"
      ],
      "metadata": {
        "id": "ScSSuQ8qMN7H"
      },
      "execution_count": 15,
      "outputs": []
    },
    {
      "cell_type": "code",
      "source": [
        "def fidelity_promo(order):\n",
        "    \"\"\"충성도 점수가 1000점 이상인 고객에게 전체 5% 할인 적용\"\"\"\n",
        "    return order.total() * 0.05 if order.customer.fidelity >= 1000 else 0\n",
        "\n",
        "\n",
        "def bulk_item_promo(order):\n",
        "    \"\"\"20개 이상의 동일 상품을 구입하면 10% 할인 적용\"\"\"\n",
        "    discount = 0\n",
        "    for item in order.cart:\n",
        "        if item.quantity >= 20:\n",
        "            discount += item.total() * 0.1\n",
        "    return discount\n",
        "\n",
        "\n",
        "def large_order_promo(order):\n",
        "    \"\"\"10종류 이상의 상품을 구입하면 전체 7% 할인 적용\"\"\"\n",
        "    distinct_items = {item.product for item in order.cart}\n",
        "    if len(distinct_items) >= 10:\n",
        "        return order.total() * 0.07\n",
        "    return 0"
      ],
      "metadata": {
        "id": "nlg-sZA5MN9t"
      },
      "execution_count": 16,
      "outputs": []
    },
    {
      "cell_type": "code",
      "source": [
        "Order(joe, cart, fidelity_promo)"
      ],
      "metadata": {
        "colab": {
          "base_uri": "https://localhost:8080/"
        },
        "id": "j0ue3UNwMOAR",
        "outputId": "31c75d62-e6ec-4377-f0a2-c3a42154e79f"
      },
      "execution_count": 17,
      "outputs": [
        {
          "output_type": "execute_result",
          "data": {
            "text/plain": [
              "<Order total: 42.00 due: 42.00>"
            ]
          },
          "metadata": {},
          "execution_count": 17
        }
      ]
    },
    {
      "cell_type": "code",
      "source": [
        "Order(ann, cart, fidelity_promo)"
      ],
      "metadata": {
        "colab": {
          "base_uri": "https://localhost:8080/"
        },
        "id": "0OKDeUuUMOC2",
        "outputId": "208fbd73-1749-475b-97f0-c1ed7e13d58a"
      },
      "execution_count": 18,
      "outputs": [
        {
          "output_type": "execute_result",
          "data": {
            "text/plain": [
              "<Order total: 42.00 due: 39.90>"
            ]
          },
          "metadata": {},
          "execution_count": 18
        }
      ]
    },
    {
      "cell_type": "code",
      "source": [
        "Order(joe, banana_cart, bulk_item_promo)"
      ],
      "metadata": {
        "colab": {
          "base_uri": "https://localhost:8080/"
        },
        "id": "yW0saJ3BMOFc",
        "outputId": "0a40ff40-e3fd-47e2-80f6-979221a27f82"
      },
      "execution_count": 19,
      "outputs": [
        {
          "output_type": "execute_result",
          "data": {
            "text/plain": [
              "<Order total: 30.00 due: 28.50>"
            ]
          },
          "metadata": {},
          "execution_count": 19
        }
      ]
    },
    {
      "cell_type": "code",
      "source": [
        "Order(ann, long_order, large_order_promo)"
      ],
      "metadata": {
        "colab": {
          "base_uri": "https://localhost:8080/"
        },
        "id": "EfWBPeL8NnYg",
        "outputId": "7c638c3a-b2f4-4539-d3c4-f5ca3ce24582"
      },
      "execution_count": 20,
      "outputs": [
        {
          "output_type": "execute_result",
          "data": {
            "text/plain": [
              "<Order total: 10.00 due: 9.30>"
            ]
          },
          "metadata": {},
          "execution_count": 20
        }
      ]
    },
    {
      "cell_type": "code",
      "source": [
        "#4\n",
        "promos = [fidelity_promo, bulk_item_promo, large_order_promo]\n",
        "\n",
        "\n",
        "def best_promo(order):\n",
        "    \"\"\"최대로 할인받을 금액을 반환\"\"\"\n",
        "    return max(promo(order) for promo in promos)"
      ],
      "metadata": {
        "id": "H29tEtn_Nnd1"
      },
      "execution_count": 27,
      "outputs": []
    },
    {
      "cell_type": "code",
      "source": [
        "#5\n",
        "Order(joe, long_order, best_promo)"
      ],
      "metadata": {
        "colab": {
          "base_uri": "https://localhost:8080/"
        },
        "id": "D5O6aq2rNnh6",
        "outputId": "8468f655-1f60-4faf-83a5-bb589324e4d5"
      },
      "execution_count": 28,
      "outputs": [
        {
          "output_type": "execute_result",
          "data": {
            "text/plain": [
              "<Order total: 10.00 due: 9.30>"
            ]
          },
          "metadata": {},
          "execution_count": 28
        }
      ]
    },
    {
      "cell_type": "code",
      "source": [
        "Order(joe, banana_cart, best_promo)"
      ],
      "metadata": {
        "colab": {
          "base_uri": "https://localhost:8080/"
        },
        "id": "6AKCWqNiN21Z",
        "outputId": "5741aead-dab7-4040-d71a-aeb98260804d"
      },
      "execution_count": 29,
      "outputs": [
        {
          "output_type": "execute_result",
          "data": {
            "text/plain": [
              "<Order total: 30.00 due: 28.50>"
            ]
          },
          "metadata": {},
          "execution_count": 29
        }
      ]
    },
    {
      "cell_type": "code",
      "source": [
        "Order(ann, cart, best_promo)"
      ],
      "metadata": {
        "id": "EfNB1JGXKRkW",
        "outputId": "5c12d618-4e85-440f-e58c-24ef7bed1450",
        "colab": {
          "base_uri": "https://localhost:8080/"
        }
      },
      "execution_count": 30,
      "outputs": [
        {
          "output_type": "execute_result",
          "data": {
            "text/plain": [
              "<Order total: 42.00 due: 39.90>"
            ]
          },
          "metadata": {},
          "execution_count": 30
        }
      ]
    },
    {
      "cell_type": "code",
      "source": [
        "globals().keys()"
      ],
      "metadata": {
        "colab": {
          "base_uri": "https://localhost:8080/"
        },
        "id": "hNRwvlByOE1d",
        "outputId": "6574c4f7-0891-417e-adca-cd419bafd537"
      },
      "execution_count": 31,
      "outputs": [
        {
          "output_type": "execute_result",
          "data": {
            "text/plain": [
              "dict_keys(['__name__', '__doc__', '__package__', '__loader__', '__spec__', '__builtin__', '__builtins__', '_ih', '_oh', '_dh', 'In', 'Out', 'get_ipython', 'exit', 'quit', '_', '__', '___', '_i', '_ii', '_iii', '_i1', 'ABC', 'abstractmethod', 'namedtuple', 'Customer', '_i2', 'park', '_2', '_i3', 'LineItem', '_i4', 'Order', '_i5', 'Promotion', '_i6', 'FidelityPromo', 'BulkItemPromo', 'LargeOrderPromo', '_i7', 'joe', 'ann', 'cart', '_i8', '_8', '_i9', '_9', '_i10', 'banana_cart', '_i11', '_11', '_i12', 'long_order', '_i13', '_13', '_i14', '_14', '_i15', '_i16', 'fidelity_promo', 'bulk_item_promo', 'large_order_promo', '_i17', '_17', '_i18', '_18', '_i19', '_19', '_i20', '_20', '_i21', 'promos', 'best_promo', '_i22', '_22', '_i23', '_23', '_i24', '_24', '_i25', '_25', '_i26', '_26', '_i27', '_i28', '_28', '_i29', '_29', '_i30', '_30', '_i31'])"
            ]
          },
          "metadata": {},
          "execution_count": 31
        }
      ]
    },
    {
      "cell_type": "code",
      "source": [
        "globals()['best_promo']"
      ],
      "metadata": {
        "colab": {
          "base_uri": "https://localhost:8080/",
          "height": 104
        },
        "id": "hsRBWTzkOKej",
        "outputId": "e37dc687-b75a-47a8-ce1c-b5a297ed0474"
      },
      "execution_count": 32,
      "outputs": [
        {
          "output_type": "execute_result",
          "data": {
            "text/plain": [
              "<function __main__.best_promo(order)>"
            ],
            "text/html": [
              "<div style=\"max-width:800px; border: 1px solid var(--colab-border-color);\"><style>\n",
              "      pre.function-repr-contents {\n",
              "        overflow-x: auto;\n",
              "        padding: 8px 12px;\n",
              "        max-height: 500px;\n",
              "      }\n",
              "\n",
              "      pre.function-repr-contents.function-repr-contents-collapsed {\n",
              "        cursor: pointer;\n",
              "        max-height: 100px;\n",
              "      }\n",
              "    </style>\n",
              "    <pre style=\"white-space: initial; background:\n",
              "         var(--colab-secondary-surface-color); padding: 8px 12px;\n",
              "         border-bottom: 1px solid var(--colab-border-color);\"><b>best_promo</b><br/>def best_promo(order)</pre><pre class=\"function-repr-contents function-repr-contents-collapsed\" style=\"\"><a class=\"filepath\" style=\"display:none\" href=\"#\">/tmp/ipython-input-1489837004.py</a>최대로 할인받을 금액을 반환</pre></div>"
            ]
          },
          "metadata": {},
          "execution_count": 32
        }
      ]
    },
    {
      "cell_type": "code",
      "source": [
        "promos =[globals()[name] for name in globals() if name.endswith('_promo') and name !='best_promo']\n",
        "promos"
      ],
      "metadata": {
        "colab": {
          "base_uri": "https://localhost:8080/"
        },
        "id": "KR64WFOSOVGb",
        "outputId": "2b2766f0-277d-4cea-b948-aea740443f5f"
      },
      "execution_count": 33,
      "outputs": [
        {
          "output_type": "execute_result",
          "data": {
            "text/plain": [
              "[<function __main__.fidelity_promo(order)>,\n",
              " <function __main__.bulk_item_promo(order)>,\n",
              " <function __main__.large_order_promo(order)>]"
            ]
          },
          "metadata": {},
          "execution_count": 33
        }
      ]
    }
  ]
}