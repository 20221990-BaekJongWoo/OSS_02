{
  "nbformat": 4,
  "nbformat_minor": 0,
  "metadata": {
    "colab": {
      "provenance": []
    },
    "kernelspec": {
      "name": "python3",
      "display_name": "Python 3"
    },
    "language_info": {
      "name": "python"
    }
  },
  "cells": [
    {
      "cell_type": "code",
      "execution_count": null,
      "metadata": {
        "id": "_EqQevyh7cy-",
        "colab": {
          "base_uri": "https://localhost:8080/"
        },
        "outputId": "2016b824-55bc-471a-cc97-0fe09098bc48"
      },
      "outputs": [
        {
          "output_type": "stream",
          "name": "stdout",
          "text": [
            "백종우\n",
            "20221990\n"
          ]
        }
      ],
      "source": [
        "# 본인의 이름, 학번을 작성하여 실행하세요.\n",
        "print(\"백종우\")\n",
        "print(\"20221990\")"
      ]
    },
    {
      "cell_type": "markdown",
      "source": [
        "## 이후 강의 PDF 예제 내용을 작성하여 실행하세요."
      ],
      "metadata": {
        "id": "m1FrI_-670e1"
      }
    },
    {
      "cell_type": "code",
      "source": [
        "#1\n",
        "class MyCollection:\n",
        "  def __getitem__(self,key):\n",
        "    return f\"Value for {key}\"\n",
        "\n",
        "  collection = MyCollection()\n",
        "  print(collection.__getitem__(3))\n",
        "  print(collection[3])\n"
      ],
      "metadata": {
        "id": "DK8jS1KQ7z37",
        "colab": {
          "base_uri": "https://localhost:8080/"
        },
        "outputId": "76616ebc-e1aa-48b3-f4cd-57c5c16ef907"
      },
      "execution_count": 17,
      "outputs": [
        {
          "output_type": "stream",
          "name": "stdout",
          "text": [
            "Value for 3\n",
            "Value for 3\n"
          ]
        }
      ]
    },
    {
      "cell_type": "code",
      "source": [
        "#2\n",
        "import collections\n",
        "\n",
        "Card = collections.namedtuple('Card', ['rank','suit'])\n",
        "\n",
        "class FrenchDeck:\n",
        "  ranks = [str(n) for n in range(2,11)] + list('JQKA')\n",
        "  suits = 'spades diamonds clubs hearts'.split()\n",
        "\n",
        "  def __init__(self):\n",
        "    self._cards = [Card(rank,suit) for suit in self.suits for rank in self.ranks]\n",
        "\n",
        "  def __len__(self):\n",
        "    return len(self._cards)\n",
        "\n",
        "  def __getitem__(self,position):\n",
        "    return self._cards[position]\n",
        "\n"
      ],
      "metadata": {
        "id": "s1zaRYas8p4R"
      },
      "execution_count": 32,
      "outputs": []
    },
    {
      "cell_type": "code",
      "source": [
        "#3\n",
        "beer_card = Card('7','diamonds')\n",
        "beer_card"
      ],
      "metadata": {
        "colab": {
          "base_uri": "https://localhost:8080/"
        },
        "id": "S6KCMODE9dsJ",
        "outputId": "46356184-4772-48a0-f2bd-b5573e5dacf5"
      },
      "execution_count": 25,
      "outputs": [
        {
          "output_type": "execute_result",
          "data": {
            "text/plain": [
              "Card(rank='7', suit='diamonds')"
            ]
          },
          "metadata": {},
          "execution_count": 25
        }
      ]
    },
    {
      "cell_type": "code",
      "source": [
        "#4\n",
        "deck = FrenchDeck()\n",
        "print(f\"Ranks : {deck.ranks}\")\n",
        "print(f\"len : {len(deck)}\")"
      ],
      "metadata": {
        "colab": {
          "base_uri": "https://localhost:8080/"
        },
        "id": "UHiu17c-9lnx",
        "outputId": "48a665be-f8e1-460b-f86e-7aa4611017a2"
      },
      "execution_count": 33,
      "outputs": [
        {
          "output_type": "stream",
          "name": "stdout",
          "text": [
            "Ranks : ['2', '3', '4', '5', '6', '7', '8', '9', '10', 'J', 'Q', 'K', 'A']\n",
            "len : 52\n"
          ]
        }
      ]
    },
    {
      "cell_type": "code",
      "source": [
        "#5\n",
        "print(deck[0])\n",
        "print(deck[-1])"
      ],
      "metadata": {
        "colab": {
          "base_uri": "https://localhost:8080/"
        },
        "id": "NBZyD9r0AOwW",
        "outputId": "72a95ee3-131f-49ba-98dc-3ea3a359e482"
      },
      "execution_count": 34,
      "outputs": [
        {
          "output_type": "stream",
          "name": "stdout",
          "text": [
            "Card(rank='2', suit='spades')\n",
            "Card(rank='A', suit='hearts')\n"
          ]
        }
      ]
    },
    {
      "cell_type": "code",
      "source": [
        "#6\n",
        "from random import choice\n",
        "print(choice(deck))\n",
        "print(choice(deck))\n",
        "print(choice(deck))"
      ],
      "metadata": {
        "colab": {
          "base_uri": "https://localhost:8080/"
        },
        "id": "ANRJX4y-AVCA",
        "outputId": "ce5e58c4-ba09-430f-db84-db7c34ba1dbe"
      },
      "execution_count": 35,
      "outputs": [
        {
          "output_type": "stream",
          "name": "stdout",
          "text": [
            "Card(rank='8', suit='hearts')\n",
            "Card(rank='2', suit='diamonds')\n",
            "Card(rank='2', suit='diamonds')\n"
          ]
        }
      ]
    },
    {
      "cell_type": "code",
      "source": [
        "#7\n",
        "deck[:3]"
      ],
      "metadata": {
        "colab": {
          "base_uri": "https://localhost:8080/"
        },
        "id": "xlXMn7HAAdVB",
        "outputId": "f68a0265-7f71-43f2-b50f-b4db3a466579"
      },
      "execution_count": 41,
      "outputs": [
        {
          "output_type": "execute_result",
          "data": {
            "text/plain": [
              "[Card(rank='2', suit='spades'),\n",
              " Card(rank='3', suit='spades'),\n",
              " Card(rank='4', suit='spades')]"
            ]
          },
          "metadata": {},
          "execution_count": 41
        }
      ]
    },
    {
      "cell_type": "code",
      "source": [
        "#8\n",
        "deck[12::13]"
      ],
      "metadata": {
        "colab": {
          "base_uri": "https://localhost:8080/"
        },
        "id": "VwgZYqzkAgky",
        "outputId": "7c227be3-f3a4-4d01-9a91-57e8d4bfad74"
      },
      "execution_count": 37,
      "outputs": [
        {
          "output_type": "execute_result",
          "data": {
            "text/plain": [
              "[Card(rank='A', suit='spades'),\n",
              " Card(rank='A', suit='diamonds'),\n",
              " Card(rank='A', suit='clubs'),\n",
              " Card(rank='A', suit='hearts')]"
            ]
          },
          "metadata": {},
          "execution_count": 37
        }
      ]
    },
    {
      "cell_type": "code",
      "source": [
        "#9\n",
        "for card in deck:\n",
        "  print(card)"
      ],
      "metadata": {
        "colab": {
          "base_uri": "https://localhost:8080/"
        },
        "id": "E_Czfg39AicS",
        "outputId": "b95e71ab-2aa9-4033-88d0-0a6e35c00e18"
      },
      "execution_count": 38,
      "outputs": [
        {
          "output_type": "stream",
          "name": "stdout",
          "text": [
            "Card(rank='2', suit='spades')\n",
            "Card(rank='3', suit='spades')\n",
            "Card(rank='4', suit='spades')\n",
            "Card(rank='5', suit='spades')\n",
            "Card(rank='6', suit='spades')\n",
            "Card(rank='7', suit='spades')\n",
            "Card(rank='8', suit='spades')\n",
            "Card(rank='9', suit='spades')\n",
            "Card(rank='10', suit='spades')\n",
            "Card(rank='J', suit='spades')\n",
            "Card(rank='Q', suit='spades')\n",
            "Card(rank='K', suit='spades')\n",
            "Card(rank='A', suit='spades')\n",
            "Card(rank='2', suit='diamonds')\n",
            "Card(rank='3', suit='diamonds')\n",
            "Card(rank='4', suit='diamonds')\n",
            "Card(rank='5', suit='diamonds')\n",
            "Card(rank='6', suit='diamonds')\n",
            "Card(rank='7', suit='diamonds')\n",
            "Card(rank='8', suit='diamonds')\n",
            "Card(rank='9', suit='diamonds')\n",
            "Card(rank='10', suit='diamonds')\n",
            "Card(rank='J', suit='diamonds')\n",
            "Card(rank='Q', suit='diamonds')\n",
            "Card(rank='K', suit='diamonds')\n",
            "Card(rank='A', suit='diamonds')\n",
            "Card(rank='2', suit='clubs')\n",
            "Card(rank='3', suit='clubs')\n",
            "Card(rank='4', suit='clubs')\n",
            "Card(rank='5', suit='clubs')\n",
            "Card(rank='6', suit='clubs')\n",
            "Card(rank='7', suit='clubs')\n",
            "Card(rank='8', suit='clubs')\n",
            "Card(rank='9', suit='clubs')\n",
            "Card(rank='10', suit='clubs')\n",
            "Card(rank='J', suit='clubs')\n",
            "Card(rank='Q', suit='clubs')\n",
            "Card(rank='K', suit='clubs')\n",
            "Card(rank='A', suit='clubs')\n",
            "Card(rank='2', suit='hearts')\n",
            "Card(rank='3', suit='hearts')\n",
            "Card(rank='4', suit='hearts')\n",
            "Card(rank='5', suit='hearts')\n",
            "Card(rank='6', suit='hearts')\n",
            "Card(rank='7', suit='hearts')\n",
            "Card(rank='8', suit='hearts')\n",
            "Card(rank='9', suit='hearts')\n",
            "Card(rank='10', suit='hearts')\n",
            "Card(rank='J', suit='hearts')\n",
            "Card(rank='Q', suit='hearts')\n",
            "Card(rank='K', suit='hearts')\n",
            "Card(rank='A', suit='hearts')\n"
          ]
        }
      ]
    },
    {
      "cell_type": "code",
      "source": [
        "#10\n",
        "for card in reversed(deck):\n",
        "  print(card)"
      ],
      "metadata": {
        "colab": {
          "base_uri": "https://localhost:8080/"
        },
        "id": "wdKMsQwGAmRq",
        "outputId": "dcd1eae3-ae85-4715-a80a-299a57de9777"
      },
      "execution_count": 39,
      "outputs": [
        {
          "output_type": "stream",
          "name": "stdout",
          "text": [
            "Card(rank='A', suit='hearts')\n",
            "Card(rank='K', suit='hearts')\n",
            "Card(rank='Q', suit='hearts')\n",
            "Card(rank='J', suit='hearts')\n",
            "Card(rank='10', suit='hearts')\n",
            "Card(rank='9', suit='hearts')\n",
            "Card(rank='8', suit='hearts')\n",
            "Card(rank='7', suit='hearts')\n",
            "Card(rank='6', suit='hearts')\n",
            "Card(rank='5', suit='hearts')\n",
            "Card(rank='4', suit='hearts')\n",
            "Card(rank='3', suit='hearts')\n",
            "Card(rank='2', suit='hearts')\n",
            "Card(rank='A', suit='clubs')\n",
            "Card(rank='K', suit='clubs')\n",
            "Card(rank='Q', suit='clubs')\n",
            "Card(rank='J', suit='clubs')\n",
            "Card(rank='10', suit='clubs')\n",
            "Card(rank='9', suit='clubs')\n",
            "Card(rank='8', suit='clubs')\n",
            "Card(rank='7', suit='clubs')\n",
            "Card(rank='6', suit='clubs')\n",
            "Card(rank='5', suit='clubs')\n",
            "Card(rank='4', suit='clubs')\n",
            "Card(rank='3', suit='clubs')\n",
            "Card(rank='2', suit='clubs')\n",
            "Card(rank='A', suit='diamonds')\n",
            "Card(rank='K', suit='diamonds')\n",
            "Card(rank='Q', suit='diamonds')\n",
            "Card(rank='J', suit='diamonds')\n",
            "Card(rank='10', suit='diamonds')\n",
            "Card(rank='9', suit='diamonds')\n",
            "Card(rank='8', suit='diamonds')\n",
            "Card(rank='7', suit='diamonds')\n",
            "Card(rank='6', suit='diamonds')\n",
            "Card(rank='5', suit='diamonds')\n",
            "Card(rank='4', suit='diamonds')\n",
            "Card(rank='3', suit='diamonds')\n",
            "Card(rank='2', suit='diamonds')\n",
            "Card(rank='A', suit='spades')\n",
            "Card(rank='K', suit='spades')\n",
            "Card(rank='Q', suit='spades')\n",
            "Card(rank='J', suit='spades')\n",
            "Card(rank='10', suit='spades')\n",
            "Card(rank='9', suit='spades')\n",
            "Card(rank='8', suit='spades')\n",
            "Card(rank='7', suit='spades')\n",
            "Card(rank='6', suit='spades')\n",
            "Card(rank='5', suit='spades')\n",
            "Card(rank='4', suit='spades')\n",
            "Card(rank='3', suit='spades')\n",
            "Card(rank='2', suit='spades')\n"
          ]
        }
      ]
    },
    {
      "cell_type": "code",
      "source": [
        "#11\n",
        "suit_values = dict(spades=3, hearts=2,diamonds=1, clubs=0)\n",
        "\n",
        "def spades_high(card):\n",
        "  rank_value = FrenchDeck.ranks.index(card.rank)\n",
        "  return rank_value * len(suit_values) + suit_values[card.suit]\n",
        "\n",
        "for card in sorted(deck, key=spades_high):\n",
        "  print(\"The rank of {} is {}\".format(card, spades_high(card)))"
      ],
      "metadata": {
        "colab": {
          "base_uri": "https://localhost:8080/"
        },
        "id": "8CHhzvLkArGC",
        "outputId": "9fa7895c-9590-4de2-a447-90e44b5c497e"
      },
      "execution_count": 45,
      "outputs": [
        {
          "output_type": "stream",
          "name": "stdout",
          "text": [
            "The rank of Card(rank='2', suit='clubs') is 0\n",
            "The rank of Card(rank='2', suit='diamonds') is 1\n",
            "The rank of Card(rank='2', suit='hearts') is 2\n",
            "The rank of Card(rank='2', suit='spades') is 3\n",
            "The rank of Card(rank='3', suit='clubs') is 4\n",
            "The rank of Card(rank='3', suit='diamonds') is 5\n",
            "The rank of Card(rank='3', suit='hearts') is 6\n",
            "The rank of Card(rank='3', suit='spades') is 7\n",
            "The rank of Card(rank='4', suit='clubs') is 8\n",
            "The rank of Card(rank='4', suit='diamonds') is 9\n",
            "The rank of Card(rank='4', suit='hearts') is 10\n",
            "The rank of Card(rank='4', suit='spades') is 11\n",
            "The rank of Card(rank='5', suit='clubs') is 12\n",
            "The rank of Card(rank='5', suit='diamonds') is 13\n",
            "The rank of Card(rank='5', suit='hearts') is 14\n",
            "The rank of Card(rank='5', suit='spades') is 15\n",
            "The rank of Card(rank='6', suit='clubs') is 16\n",
            "The rank of Card(rank='6', suit='diamonds') is 17\n",
            "The rank of Card(rank='6', suit='hearts') is 18\n",
            "The rank of Card(rank='6', suit='spades') is 19\n",
            "The rank of Card(rank='7', suit='clubs') is 20\n",
            "The rank of Card(rank='7', suit='diamonds') is 21\n",
            "The rank of Card(rank='7', suit='hearts') is 22\n",
            "The rank of Card(rank='7', suit='spades') is 23\n",
            "The rank of Card(rank='8', suit='clubs') is 24\n",
            "The rank of Card(rank='8', suit='diamonds') is 25\n",
            "The rank of Card(rank='8', suit='hearts') is 26\n",
            "The rank of Card(rank='8', suit='spades') is 27\n",
            "The rank of Card(rank='9', suit='clubs') is 28\n",
            "The rank of Card(rank='9', suit='diamonds') is 29\n",
            "The rank of Card(rank='9', suit='hearts') is 30\n",
            "The rank of Card(rank='9', suit='spades') is 31\n",
            "The rank of Card(rank='10', suit='clubs') is 32\n",
            "The rank of Card(rank='10', suit='diamonds') is 33\n",
            "The rank of Card(rank='10', suit='hearts') is 34\n",
            "The rank of Card(rank='10', suit='spades') is 35\n",
            "The rank of Card(rank='J', suit='clubs') is 36\n",
            "The rank of Card(rank='J', suit='diamonds') is 37\n",
            "The rank of Card(rank='J', suit='hearts') is 38\n",
            "The rank of Card(rank='J', suit='spades') is 39\n",
            "The rank of Card(rank='Q', suit='clubs') is 40\n",
            "The rank of Card(rank='Q', suit='diamonds') is 41\n",
            "The rank of Card(rank='Q', suit='hearts') is 42\n",
            "The rank of Card(rank='Q', suit='spades') is 43\n",
            "The rank of Card(rank='K', suit='clubs') is 44\n",
            "The rank of Card(rank='K', suit='diamonds') is 45\n",
            "The rank of Card(rank='K', suit='hearts') is 46\n",
            "The rank of Card(rank='K', suit='spades') is 47\n",
            "The rank of Card(rank='A', suit='clubs') is 48\n",
            "The rank of Card(rank='A', suit='diamonds') is 49\n",
            "The rank of Card(rank='A', suit='hearts') is 50\n",
            "The rank of Card(rank='A', suit='spades') is 51\n"
          ]
        }
      ]
    },
    {
      "cell_type": "code",
      "source": [
        "#12\n",
        "from math import hypot\n",
        "\n",
        "class Vector:\n",
        "  def __init__(self, x=0, y=0):\n",
        "    self.x = x\n",
        "    self.y = y\n",
        "\n",
        "  def __repr__(self):\n",
        "    return 'Vector(%r,%r)'%(self.x,self.y)\n",
        "\n",
        "  def __abs__(self):\n",
        "    return hypot(self.x,self.y)\n",
        "\n",
        "  def __bool__(self):\n",
        "    return bool(abs(self))\n",
        "\n",
        "  def __add__(self,other):\n",
        "      x= self.x + other.x\n",
        "      y= self.y + other.y\n",
        "      return Vector(x,y)\n",
        "\n",
        "  def __mul__(self,scalar):\n",
        "      return Vector(self.x * scalar, self.y*scalar)\n"
      ],
      "metadata": {
        "id": "Cbs5KlalCFM0"
      },
      "execution_count": 54,
      "outputs": []
    },
    {
      "cell_type": "code",
      "source": [
        "v = Vector(3,4)\n",
        "abs(v)\n",
        "\n"
      ],
      "metadata": {
        "colab": {
          "base_uri": "https://localhost:8080/"
        },
        "id": "jE-GiZJuC9i6",
        "outputId": "4f6fbbad-c242-42e2-9b12-63935a7ef986"
      },
      "execution_count": 56,
      "outputs": [
        {
          "output_type": "execute_result",
          "data": {
            "text/plain": [
              "5.0"
            ]
          },
          "metadata": {},
          "execution_count": 56
        }
      ]
    },
    {
      "cell_type": "code",
      "source": [
        "v*3\n",
        "abs(v*3)\n",
        "\n"
      ],
      "metadata": {
        "colab": {
          "base_uri": "https://localhost:8080/"
        },
        "id": "fTwCUWnpDbnR",
        "outputId": "bf163312-d4be-4d8c-944e-442853f70edb"
      },
      "execution_count": 61,
      "outputs": [
        {
          "output_type": "execute_result",
          "data": {
            "text/plain": [
              "15.0"
            ]
          },
          "metadata": {},
          "execution_count": 61
        }
      ]
    },
    {
      "cell_type": "code",
      "source": [
        "v1= Vector(2,4)\n",
        "v2= Vector(2,1)\n",
        "v1 + v2"
      ],
      "metadata": {
        "colab": {
          "base_uri": "https://localhost:8080/"
        },
        "id": "Hgu_mXxUD8ZE",
        "outputId": "0c297e88-e81c-4264-bded-8061522aebbd"
      },
      "execution_count": 62,
      "outputs": [
        {
          "output_type": "execute_result",
          "data": {
            "text/plain": [
              "Vector(4,5)"
            ]
          },
          "metadata": {},
          "execution_count": 62
        }
      ]
    },
    {
      "cell_type": "code",
      "source": [
        "#13\n",
        "v"
      ],
      "metadata": {
        "colab": {
          "base_uri": "https://localhost:8080/"
        },
        "id": "F-7kwtO5D-88",
        "outputId": "26ba7b6c-387d-497f-9916-99c742091c24"
      },
      "execution_count": 63,
      "outputs": [
        {
          "output_type": "execute_result",
          "data": {
            "text/plain": [
              "Vector(3,4)"
            ]
          },
          "metadata": {},
          "execution_count": 63
        }
      ]
    }
  ]
}